{
 "cells": [
  {
   "cell_type": "code",
   "execution_count": null,
   "metadata": {},
   "outputs": [],
   "source": [
    "import pandas as pd\n",
    "import sys\n",
    "sys.path.append(\"..\")\n",
    "from helpers.db_util import db, ReqResp, DirectTest, ProbeTest, RetroTest, Url\n",
    "from dotenv import load_dotenv"
   ]
  },
  {
   "cell_type": "code",
   "execution_count": null,
   "metadata": {},
   "outputs": [],
   "source": [
    "load_dotenv()"
   ]
  },
  {
   "cell_type": "code",
   "execution_count": null,
   "metadata": {},
   "outputs": [],
   "source": [
    "db.init(\"sanity_check\")\n",
    "db.connect()"
   ]
  },
  {
   "cell_type": "markdown",
   "metadata": {},
   "source": [
    "# General"
   ]
  },
  {
   "cell_type": "code",
   "execution_count": null,
   "metadata": {},
   "outputs": [],
   "source": [
    "u = pd.DataFrame(Url.select().dicts())\n",
    "r = pd.DataFrame(ReqResp.select().dicts())"
   ]
  },
  {
   "cell_type": "code",
   "execution_count": null,
   "metadata": {},
   "outputs": [],
   "source": [
    "def parse_url(row):\n",
    "    url = row[\"real_url\"]\n",
    "    split = url.split(\"/\")\n",
    "    return split[-2], split[-1]\n",
    "\n",
    "r[[\"function\", \"valid\"]] = r.apply(parse_url, axis=1, result_type=\"expand\")"
   ]
  },
  {
   "cell_type": "code",
   "execution_count": null,
   "metadata": {},
   "outputs": [],
   "source": [
    "print(\"URLs with error or notes from mitmproxy: e.g., unexpected data received that is not passed to the functions\")\n",
    "r.loc[(r[\"msg\"] != \"\") | (r[\"error\"] != \"\")].sort_values(by=[\"function\", \"valid\"])[[\"id\", \"function\", \"valid\", \"error\", \"msg\", \"req_type\"]].head(5)"
   ]
  },
  {
   "cell_type": "markdown",
   "metadata": {},
   "source": [
    "# Probe/Proxy Tests"
   ]
  },
  {
   "cell_type": "code",
   "execution_count": null,
   "metadata": {},
   "outputs": [],
   "source": [
    "pt = pd.DataFrame(ProbeTest.select().dicts())"
   ]
  },
  {
   "cell_type": "code",
   "execution_count": null,
   "metadata": {},
   "outputs": [],
   "source": [
    "print(\"General stats on all collected proxy testcases\")\n",
    "pt[[\"type\", \"violation\", \"extra\"]].value_counts().to_frame()"
   ]
  },
  {
   "cell_type": "code",
   "execution_count": null,
   "metadata": {},
   "outputs": [],
   "source": [
    "res = pd.merge(r.loc[r[\"probe_id\"].isna()], pt, left_on=\"url\", right_on=\"url\")"
   ]
  },
  {
   "cell_type": "code",
   "execution_count": null,
   "metadata": {},
   "outputs": [],
   "source": [
    "res[[\"resp_code\", \"resp_version\", \"type\", \"violation\"]].value_counts().to_frame().head(20)"
   ]
  },
  {
   "cell_type": "code",
   "execution_count": null,
   "metadata": {},
   "outputs": [],
   "source": [
    "print(\"Number of unique tests:\", len(set(res[\"function\"])))\n",
    "print(\"Number of unique tests (results collected):\", len(set(res[\"name\"])))\n",
    "print(\"Tests without results:\",  set(res[\"function\"]) - set(res[\"name\"])) "
   ]
  },
  {
   "cell_type": "code",
   "execution_count": null,
   "metadata": {},
   "outputs": [],
   "source": [
    "san = res.loc[res[\"name\"] == res[\"function\"]]"
   ]
  },
  {
   "cell_type": "code",
   "execution_count": null,
   "metadata": {},
   "outputs": [],
   "source": [
    "san[[\"valid\", \"type\", \"violation\"]].value_counts().to_frame()"
   ]
  },
  {
   "cell_type": "code",
   "execution_count": null,
   "metadata": {},
   "outputs": [],
   "source": [
    "for valid, type, violation in san[[\"valid\", \"type\", \"violation\"]].value_counts().index:\n",
    "    print(valid, type, violation)\n",
    "    df = san.loc[(san[\"valid\"] == valid) & (san[\"type\"] == type) & (san[\"violation\"] == violation)]\n",
    "    print(df[\"name\"].unique().tolist())\n",
    "    print()\n",
    "    \n",
    "# invalid -> follows specification\n",
    "# field_value_start_or_end_with_whitespace: problem wptserver strips the leading whitespaces\n",
    "# transfer_encoding_http11: problem mitmproxy does not allow the invalid transfer-encoding\n",
    "\n",
    "# All the other results are expected"
   ]
  },
  {
   "cell_type": "markdown",
   "metadata": {},
   "source": [
    "# Direct tests"
   ]
  },
  {
   "cell_type": "code",
   "execution_count": null,
   "metadata": {},
   "outputs": [],
   "source": [
    "# Check direct tests\n",
    "dt = pd.DataFrame(DirectTest.select().dicts())\n",
    "dt = pd.merge(dt, r, on=\"url\", how=\"inner\")\n",
    "dt[[\"function\", \"valid\"]] = dt.apply(parse_url, axis=1, result_type=\"expand\")"
   ]
  },
  {
   "cell_type": "code",
   "execution_count": null,
   "metadata": {},
   "outputs": [],
   "source": [
    "dt.loc[dt[\"name\"] == \"content_length_2XX_connect\"][\"real_url\"]"
   ]
  },
  {
   "cell_type": "code",
   "execution_count": null,
   "metadata": {},
   "outputs": [],
   "source": [
    "for valid, type, violation in dt[[\"valid\", \"type\", \"violation\"]].value_counts().index:\n",
    "    print(valid, type, violation)\n",
    "    df = dt.loc[(dt[\"valid\"] == valid) & (dt[\"type\"] == type) & (dt[\"violation\"] == violation)]\n",
    "    print(df[\"name\"].unique().tolist())\n",
    "    print()\n",
    "\n",
    "# No entry for valid/invalid\n",
    "# content_length_2XX_connect, transfer_encoding_2XX_connect: cannot be tested correctly as WPT does not pass CONNECT option through \n",
    "\n",
    "# Incorrect result: valid -> breaks specification\n",
    "# allow_crlf_start: cannot be tested correctly as WPT closes connection directly; after FIRST CRLF\n",
    "# code_405_blocked_methods: cannot be tested correctly as WPT return code 200 for CONNECT\n",
    "\n",
    "# Incorrect result: invalid -> follows specification\n",
    "# continue_before_upgrade: cannot be tested correctly as WPT returns an automatic response to Expect: 100-Continue\n",
    "\n",
    "# The other tests have the expected results"
   ]
  },
  {
   "cell_type": "markdown",
   "metadata": {},
   "source": [
    "# Retro tests"
   ]
  },
  {
   "cell_type": "code",
   "execution_count": null,
   "metadata": {},
   "outputs": [],
   "source": [
    "# check retro tests!\n",
    "rt = pd.DataFrame(RetroTest.select().dicts())\n",
    "rt = pd.merge(rt, r, on=\"url\", how=\"left\")\n",
    "rt[[\"function\", \"valid\"]] = rt.apply(parse_url, axis=1, result_type=\"expand\")"
   ]
  },
  {
   "cell_type": "code",
   "execution_count": null,
   "metadata": {},
   "outputs": [],
   "source": [
    "# All results are as expected\n",
    "for valid, type, violation in rt[[\"valid\", \"type\", \"violation\"]].value_counts().index:\n",
    "    print(valid, type, violation)\n",
    "    df = rt.loc[(rt[\"valid\"] == valid) & (rt[\"type\"] == type) & (rt[\"violation\"] == violation)]\n",
    "    print(df[\"name\"].unique().tolist())\n",
    "    print()"
   ]
  }
 ],
 "metadata": {
  "language_info": {
   "name": "python",
   "pygments_lexer": "ipython3"
  }
 },
 "nbformat": 4,
 "nbformat_minor": 4
}
